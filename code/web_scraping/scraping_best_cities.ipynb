{
 "cells": [
  {
   "cell_type": "code",
   "execution_count": 23,
   "metadata": {},
   "outputs": [],
   "source": [
    "# from collections import Counter\n",
    "import pandas as pd\n",
    "import requests\n",
    "from bs4 import BeautifulSoup\n",
    "import urllib.request\n",
    "import csv"
   ]
  },
  {
   "cell_type": "code",
   "execution_count": 17,
   "metadata": {},
   "outputs": [],
   "source": [
    "page_url = \"https://wallethub.com/edu/most-pet-friendly-cities/5562/\"\n",
    "page = requests.get(page_url)\n",
    "html = BeautifulSoup(page.text, \"html.parser\")"
   ]
  },
  {
   "cell_type": "code",
   "execution_count": 18,
   "metadata": {},
   "outputs": [],
   "source": [
    "# html"
   ]
  },
  {
   "cell_type": "code",
   "execution_count": 25,
   "metadata": {},
   "outputs": [
    {
     "name": "stdout",
     "output_type": "stream",
     "text": [
      "Most Pet-Friendly Cities\n"
     ]
    }
   ],
   "source": [
    "# # Extract title text\n",
    "# title = html.title.text\n",
    "# print(title)\n",
    "title = \"Most Pet-Friendly Cities\"\n",
    "print(title)"
   ]
  },
  {
   "cell_type": "code",
   "execution_count": 12,
   "metadata": {},
   "outputs": [],
   "source": [
    "table = html.find(\"table\")\n",
    "\n",
    "output_rows = []\n",
    "for table_row in table.findAll('tr'):\n",
    "    columns = table_row.findAll('td')\n",
    "    output_row = []\n",
    "    for column in columns:\n",
    "        output_row.append(column.text)\n",
    "    output_rows.append(output_row)"
   ]
  },
  {
   "cell_type": "code",
   "execution_count": 14,
   "metadata": {},
   "outputs": [
    {
     "data": {
      "text/plain": [
       "[[],\n",
       " ['1', 'Scottsdale, AZ', '58.89', '80', '1', '6'],\n",
       " ['2', 'Orlando, FL', '58.29', '7', '4', '51'],\n",
       " ['3', 'Tampa, FL', '57.61', '10', '17', '13'],\n",
       " ['4', 'Austin, TX', '56.17', '31', '2', '54'],\n",
       " ['5', 'Phoenix, AZ', '55.89', '26', '16', '15'],\n",
       " ['6', 'Las Vegas, NV', '55.56', '60', '9', '4'],\n",
       " ['7', 'Atlanta, GA', '53.81', '23', '6', '71'],\n",
       " ['8', 'St. Louis, MO', '53.51', '17', '20', '45'],\n",
       " ['9', 'Seattle, WA', '53.38', '76', '7', '11'],\n",
       " ['10', 'Portland, OR', '53.32', '54', '21', '9'],\n",
       " ['11', 'San Diego, CA', '53.14', '90', '3', '7'],\n",
       " ['12', 'Albuquerque, NM', '53.14', '16', '47', '20'],\n",
       " ['13', 'Birmingham, AL', '52.51', '18', '27', '48'],\n",
       " ['14', 'Oklahoma City, OK', '51.49', '1', '59', '82'],\n",
       " ['15', 'Raleigh, NC', '51.14', '19', '10', '83'],\n",
       " ['16', 'Colorado Springs, CO', '50.62', '53', '42', '12'],\n",
       " ['17', 'Irvine, CA', '50.43', '98', '8', '2'],\n",
       " ['18', 'Sacramento, CA', '50.37', '50', '36', '19'],\n",
       " ['19', 'Tucson, AZ', '50.21', '43', '26', '42'],\n",
       " ['20', 'Cincinnati, OH', '50.21', '22', '49', '33'],\n",
       " ['21', 'Denver, CO', '50.16', '77', '11', '25'],\n",
       " ['22', 'San Antonio, TX', '50.05', '8', '45', '58'],\n",
       " ['23', 'Pittsburgh, PA', '49.47', '44', '48', '23'],\n",
       " ['24', 'Lexington-Fayette, KY', '49.09', '25', '19', '93'],\n",
       " ['25', 'Fort Worth, TX', '49.05', '27', '23', '76'],\n",
       " ['26', 'Miami, FL', '48.75', '36', '22', '69'],\n",
       " ['27', 'Los Angeles, CA', '48.62', '97', '13', '3'],\n",
       " ['28', 'Plano, TX', '48.36', '93', '5', '31'],\n",
       " ['29', 'North Las Vegas, NV', '48.32', '32', '73', '22'],\n",
       " ['30', 'Anaheim, CA', '48.30', '66', '12', '43'],\n",
       " ['30', 'Boise, ID', '48.30', '57', '41', '29'],\n",
       " ['32', 'Tulsa, OK', '48.25', '6', '55', '72'],\n",
       " ['33', 'Oakland, CA', '48.23', '83', '30', '8'],\n",
       " ['34', 'New Orleans, LA', '47.85', '42', '43', '49'],\n",
       " ['35', 'Houston, TX', '47.77', '29', '44', '59'],\n",
       " ['36', 'St. Petersburg, FL', '47.42', '46', '56', '27'],\n",
       " ['37', 'Long Beach, CA', '46.98', '81', '40', '10'],\n",
       " ['38', 'Jersey City, NJ', '46.94', '87', '15', '14'],\n",
       " ['39', 'Boston, MA', '46.91', '63', '32', '38'],\n",
       " ['40', 'Louisville, KY', '46.89', '13', '35', '95'],\n",
       " ['41', 'San Francisco, CA', '46.86', '100', '18', '1'],\n",
       " ['42', 'Chesapeake, VA', '46.57', '34', '76', '28'],\n",
       " ['43', 'Columbus, OH', '46.51', '11', '75', '63'],\n",
       " ['44', 'Virginia Beach, VA', '46.47', '12', '51', '90'],\n",
       " ['45', 'Henderson, NV', '46.17', '52', '66', '24'],\n",
       " ['46', 'Arlington, TX', '45.68', '58', '38', '56'],\n",
       " ['47', 'Bakersfield, CA', '45.50', '48', '71', '35'],\n",
       " ['48', 'Washington, DC', '45.11', '88', '33', '17'],\n",
       " ['49', 'Corpus Christi, TX', '44.93', '3', '87', '80'],\n",
       " ['50', 'Fremont, CA', '44.64', '92', '54', '5'],\n",
       " ['51', 'Kansas City, MO', '44.60', '21', '79', '57'],\n",
       " ['52', 'Madison, WI', '44.55', '56', '67', '37'],\n",
       " ['53', 'Gilbert, AZ', '44.48', '70', '25', '73'],\n",
       " ['54', 'New York, NY', '44.31', '99', '14', '16'],\n",
       " ['55', 'Winston-Salem, NC', '43.77', '28', '69', '88'],\n",
       " ['56', 'Garland, TX', '43.75', '71', '34', '62'],\n",
       " ['57', 'Glendale, AZ', '43.62', '64', '39', '61'],\n",
       " ['58', 'Memphis, TN', '43.49', '5', '82', '94'],\n",
       " ['59', 'Dallas, TX', '43.40', '85', '29', '47'],\n",
       " ['60', 'Hialeah, FL', '43.16', '49', '62', '65'],\n",
       " ['61', 'Lincoln, NE', '43.01', '14', '89', '74'],\n",
       " ['62', 'Minneapolis, MN', '42.94', '65', '65', '40'],\n",
       " ['63', 'Durham, NC', '42.88', '45', '52', '89'],\n",
       " ['64', 'Indianapolis, IN', '42.60', '20', '57', '98'],\n",
       " ['65', 'Greensboro, NC', '42.53', '15', '80', '64'],\n",
       " ['66', 'Omaha, NE', '42.45', '33', '77', '81'],\n",
       " ['67', 'St. Paul, MN', '42.43', '51', '85', '41'],\n",
       " ['68', 'Stockton, CA', '42.31', '41', '94', '39'],\n",
       " ['69', 'Philadelphia, PA', '42.31', '84', '50', '36'],\n",
       " ['70', 'El Paso, TX', '42.30', '24', '93', '44'],\n",
       " ['71', 'Fort Wayne, IN', '42.14', '9', '63', '100'],\n",
       " ['72', 'Jacksonville, FL', '42.06', '38', '68', '86'],\n",
       " ['73', 'Toledo, OH', '42.01', '4', '92', '60'],\n",
       " ['74', 'Lubbock, TX', '41.98', '47', '72', '79'],\n",
       " ['75', 'Cleveland, OH', '41.62', '40', '81', '77'],\n",
       " ['76', 'Riverside, CA', '41.61', '86', '64', '32'],\n",
       " ['77', 'Irving, TX', '41.47', '78', '31', '84'],\n",
       " ['78', 'San Jose, CA', '41.44', '59', '88', '26'],\n",
       " ['79', 'Chicago, IL', '41.44', '96', '24', '50'],\n",
       " ['80', 'Chandler, AZ', '40.65', '73', '53', '68'],\n",
       " ['81', 'Reno, NV', '40.48', '61', '60', '85'],\n",
       " ['82', 'Wichita, KS', '40.39', '30', '78', '99'],\n",
       " ['83', 'Mesa, AZ', '40.27', '73', '58', '75'],\n",
       " ['84', 'Baton Rouge, LA', '40.13', '39', '70', '96'],\n",
       " ['85', 'Norfolk, VA', '39.93', '55', '90', '52'],\n",
       " ['86', 'Charlotte, NC', '39.80', '67', '37', '97'],\n",
       " ['87', 'Honolulu, HI', '39.67', '72', '96', '21'],\n",
       " ['88', 'Baltimore, MD', '39.45', '68', '84', '53'],\n",
       " ['89', 'San Bernardino, CA', '39.35', '62', '95', '18'],\n",
       " ['90', 'Anchorage, AK', '39.22', '82', '86', '30'],\n",
       " ['91', 'Detroit, MI', '38.79', '37', '97', '66'],\n",
       " ['92', 'Aurora, CO', '38.63', '79', '61', '70'],\n",
       " ['93', 'Nashville, TN', '38.35', '75', '74', '78'],\n",
       " ['94', 'Newark, NJ', '38.26', '94', '28', '92'],\n",
       " ['95', 'Santa Ana, CA', '37.88', '95', '46', '55'],\n",
       " ['96', 'Chula Vista, CA', '37.62', '89', '83', '34'],\n",
       " ['97', 'Milwaukee, WI', '36.65', '35', '98', '87'],\n",
       " ['98', 'Buffalo, NY', '35.10', '69', '91', '91'],\n",
       " ['99', 'Laredo, TX', '34.29', '2', '100', '67'],\n",
       " ['100', 'Fresno, CA', '32.75', '91', '99', '46']]"
      ]
     },
     "execution_count": 14,
     "metadata": {},
     "output_type": "execute_result"
    }
   ],
   "source": [
    "output_rows"
   ]
  },
  {
   "cell_type": "code",
   "execution_count": 24,
   "metadata": {},
   "outputs": [],
   "source": [
    "with open('best_cities.csv', 'w') as csvfile:\n",
    "    writer = csv.writer(csvfile)\n",
    "    writer.writerows(output_rows)"
   ]
  },
  {
   "cell_type": "code",
   "execution_count": null,
   "metadata": {},
   "outputs": [],
   "source": []
  }
 ],
 "metadata": {
  "kernelspec": {
   "display_name": "Python 3",
   "language": "python",
   "name": "python3"
  },
  "language_info": {
   "codemirror_mode": {
    "name": "ipython",
    "version": 3
   },
   "file_extension": ".py",
   "mimetype": "text/x-python",
   "name": "python",
   "nbconvert_exporter": "python",
   "pygments_lexer": "ipython3",
   "version": "3.7.1"
  }
 },
 "nbformat": 4,
 "nbformat_minor": 2
}
